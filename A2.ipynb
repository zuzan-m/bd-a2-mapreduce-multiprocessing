{
 "cells": [
  {
   "cell_type": "markdown",
   "metadata": {},
   "source": [
    "\n",
    "# <span style=\"font-variant: small-caps\"> Big Data </span>\n",
    "\n",
    "## Assignment 2\n",
    "zuzan\n",
    "\n",
    "---\n",
    "**Task 1** Given a 2D matrix (or list of lists), count how many numbers are present in a given range.\n",
    "\n",
    "**Task 2** Download as many books as possible from the Gutenberg project and:\n",
    "* count the words in all books,\n",
    "* compute a histogram of the words.\n",
    "\n",
    "**Task 3** Compute exact digits of π using the Bailey-Borwein-Plouffe algorithm.\n",
    "\n",
    "**Task 4** Calculate the product of two random matrices.\n",
    "\n",
    "All programs should follow the MapReduce model. Use multiprocessing module in Python to implement its simple single-server version. Run the programs in both the serialized and parallel manner and compare the execution times.\n",
    "\n",
    "---"
   ]
  },
  {
   "cell_type": "markdown",
   "metadata": {},
   "source": [
    "### Task 1\n",
    "\n",
    "Given a 2D matrix (or list of lists), count how many numbers are present in a given range."
   ]
  },
  {
   "cell_type": "code",
   "execution_count": 1,
   "metadata": {
    "collapsed": true
   },
   "outputs": [],
   "source": [
    "import numpy as np\n",
    "from functools import reduce"
   ]
  },
  {
   "cell_type": "code",
   "execution_count": 2,
   "metadata": {
    "collapsed": true
   },
   "outputs": [],
   "source": [
    "def count_in_range(matrix, lower, upper):\n",
    "    \"\"\"Counts numbers in `matrix` which lie in the [low, high] interval.\"\"\"\n",
    "    return ((matrix >= lower) & (matrix <= upper)).sum()"
   ]
  },
  {
   "cell_type": "code",
   "execution_count": 3,
   "metadata": {
    "collapsed": true
   },
   "outputs": [],
   "source": [
    "def reducer(x, y):\n",
    "    return x + y\n",
    "\n",
    "def count_in_range_mapreduce(matrix, lower, upper):\n",
    "    mapper = lambda value: int((value >= lower) & (value <= upper))\n",
    "    mapped = map(mapper, matrix.flatten())         # flatten() works very fast, it does not really affect the execution time\n",
    "    reduced = reduce(reducer, mapped)\n",
    "    return reduced"
   ]
  },
  {
   "cell_type": "code",
   "execution_count": 4,
   "metadata": {
    "collapsed": true
   },
   "outputs": [],
   "source": [
    "mx = np.random.randint(0,99,(10000,10000))"
   ]
  },
  {
   "cell_type": "code",
   "execution_count": 6,
   "metadata": {},
   "outputs": [
    {
     "name": "stdout",
     "output_type": "stream",
     "text": [
      "Wall time: 392 ms\n"
     ]
    },
    {
     "data": {
      "text/plain": [
       "7070433"
      ]
     },
     "execution_count": 6,
     "metadata": {},
     "output_type": "execute_result"
    }
   ],
   "source": [
    "%%time\n",
    "count_in_range(mx, 1, 7)"
   ]
  },
  {
   "cell_type": "code",
   "execution_count": 7,
   "metadata": {},
   "outputs": [
    {
     "name": "stdout",
     "output_type": "stream",
     "text": [
      "Wall time: 2min 25s\n"
     ]
    },
    {
     "data": {
      "text/plain": [
       "7070433"
      ]
     },
     "execution_count": 7,
     "metadata": {},
     "output_type": "execute_result"
    }
   ],
   "source": [
    "%%time\n",
    "count_in_range_mapreduce(mx, 1, 7)"
   ]
  },
  {
   "cell_type": "code",
   "execution_count": 2,
   "metadata": {
    "collapsed": true
   },
   "outputs": [],
   "source": [
    "from multiprocessing import Pool\n",
    "from multiprocessing import cpu_count"
   ]
  },
  {
   "cell_type": "code",
   "execution_count": 37,
   "metadata": {
    "collapsed": true
   },
   "outputs": [],
   "source": [
    "lower = 1\n",
    "upper = 7\n",
    "\n",
    "def mapper(x):\n",
    "    return int((x[0] >= x[1]) & (x[0] <= x[2]))\n",
    "\n",
    "def reducer(x, y):\n",
    "    return x + y\n",
    "\n",
    "def chunks_mapper(chunk):\n",
    "    mapped_chunk = map(mapper, chunk) \n",
    "    return reduce(reducer, mapped_chunk)\n",
    "\n",
    "# in order to use these functions with multiprocessing in Windows, I saved them in file a2_func.py which then I import\n",
    "# and use especially imported chunks_mapper"
   ]
  },
  {
   "cell_type": "code",
   "execution_count": 13,
   "metadata": {},
   "outputs": [
    {
     "name": "stdout",
     "output_type": "stream",
     "text": [
      "Wall time: 4min 14s\n"
     ]
    }
   ],
   "source": [
    "%%time\n",
    "# let's check the time not using multiprocessing\n",
    "\n",
    "lower = 1\n",
    "upper = 7\n",
    "all_cells = mx.flatten()\n",
    "zipped = zip(all_cells, [lower]*len(all_cells), [upper]*len(all_cells))\n",
    "reduce(reducer, map(chunks_mapper, np.array_split(list(zipped),2)))"
   ]
  },
  {
   "cell_type": "code",
   "execution_count": 11,
   "metadata": {},
   "outputs": [
    {
     "data": {
      "text/plain": [
       "<module 'a2_func' from 'C:\\\\Users\\\\zuzan\\\\Documents\\\\_big_data\\\\a2_func.py'>"
      ]
     },
     "execution_count": 11,
     "metadata": {},
     "output_type": "execute_result"
    }
   ],
   "source": [
    "import a2_func\n",
    "import imp\n",
    "imp.reload(a2_func)"
   ]
  },
  {
   "cell_type": "code",
   "execution_count": 34,
   "metadata": {
    "collapsed": true,
    "scrolled": true
   },
   "outputs": [],
   "source": [
    "def count_in_range_mapreduce_multipr(matrix, lower, upper):\n",
    "    if __name__ ==  '__main__': \n",
    "        pool = Pool(cpu_count())\n",
    "        all_cells = matrix.flatten()\n",
    "        zipped = zip(all_cells, [lower]*len(all_cells), [upper]*len(all_cells))\n",
    "        data_chunks = np.array_split(list(zipped), 8)\n",
    "        mapped = pool.map(a2_func.chunks_mapper, data_chunks)\n",
    "        reduced = reduce(reducer, mapped)\n",
    "        return reduced"
   ]
  },
  {
   "cell_type": "code",
   "execution_count": 10,
   "metadata": {},
   "outputs": [
    {
     "name": "stdout",
     "output_type": "stream",
     "text": [
      "Wall time: 3min 1s\n"
     ]
    },
    {
     "data": {
      "text/plain": [
       "7074074"
      ]
     },
     "execution_count": 10,
     "metadata": {},
     "output_type": "execute_result"
    }
   ],
   "source": [
    "%%time\n",
    "count_in_range_mapreduce_multipr(mx, 1, 7)"
   ]
  },
  {
   "cell_type": "code",
   "execution_count": 35,
   "metadata": {
    "collapsed": true
   },
   "outputs": [],
   "source": [
    "# to answer the question in the form to fill\n",
    "\n",
    "ij_matrix = np.zeros((2000,2000))\n",
    "for i in range(2000):\n",
    "    for j in range(2000):\n",
    "        ij_matrix[i,j] = i-j"
   ]
  },
  {
   "cell_type": "code",
   "execution_count": 39,
   "metadata": {},
   "outputs": [
    {
     "name": "stdout",
     "output_type": "stream",
     "text": [
      "Wall time: 11.5 s\n"
     ]
    },
    {
     "data": {
      "text/plain": [
       "7982"
      ]
     },
     "execution_count": 39,
     "metadata": {},
     "output_type": "execute_result"
    }
   ],
   "source": [
    "%%time\n",
    "# parallel computing\n",
    "count_in_range_mapreduce_multipr(ij_matrix, 3, 6)"
   ]
  },
  {
   "cell_type": "code",
   "execution_count": 40,
   "metadata": {},
   "outputs": [
    {
     "name": "stdout",
     "output_type": "stream",
     "text": [
      "7982\n",
      "Wall time: 11.9 s\n"
     ]
    }
   ],
   "source": [
    "%%time\n",
    "# serialized \n",
    "\n",
    "lower = 3\n",
    "upper = 6\n",
    "all_cells = ij_matrix.flatten()\n",
    "zipped = zip(all_cells, [lower]*len(all_cells), [upper]*len(all_cells))\n",
    "print(reduce(reducer, map(chunks_mapper, np.array_split(list(zipped),2))))"
   ]
  },
  {
   "cell_type": "markdown",
   "metadata": {
    "collapsed": true
   },
   "source": [
    "### Task 2\n",
    "\n",
    "Download as many books as possible from the Gutenberg project and:\n",
    " * count the words in all books,\n",
    " * compute a histogram of the words"
   ]
  },
  {
   "cell_type": "code",
   "execution_count": 41,
   "metadata": {
    "collapsed": true
   },
   "outputs": [],
   "source": [
    "import glob"
   ]
  },
  {
   "cell_type": "code",
   "execution_count": 85,
   "metadata": {
    "collapsed": true
   },
   "outputs": [],
   "source": [
    "from nltk.tokenize import word_tokenize \n",
    "from nltk.stem import WordNetLemmatizer\n",
    "from nltk.corpus import stopwords\n",
    "from collections import Counter\n",
    "\n",
    "def one_book_word_count(filename):\n",
    "    with open(filename, \"r\", encoding=\"ASCII\") as file:\n",
    "        text = file.read()\n",
    "    start_idx = text.find('***') + text[text.find('***') + 3 :].find('***') + 6\n",
    "    end_idx = text.find('*** END')\n",
    "    text = text[start_idx:end_idx].replace('\\n',' ').replace('.',' ').replace(',',' ').replace(':',' ').replace(';',' ').replace('?',\n",
    "            ' ').replace('!',' ').replace('\"',' ').replace(\"—\",\" \").replace('_',' ').replace('[',' ').replace(']',' ').replace('(',\n",
    "            ' ').replace(')',' ').replace('0',' ').replace('1',' ').replace('2',' ').replace('3',' ').replace('4',' ').replace('5',\n",
    "            ' ').replace('6',' ').replace('7',' ').replace('8',' ').replace('9',' ').lower()\n",
    "    text_tokenized = word_tokenize(text)\n",
    "    lemmatizer = WordNetLemmatizer()\n",
    "    stop_words = stopwords.words('english')\n",
    "    text_stem = [lemmatizer.lemmatize(item) for item in text_tokenized if ((len(lemmatizer.lemmatize(item)) > 1) & (item not in stop_words))]\n",
    "    dict_of_words = dict(Counter(t))\n",
    "    \n",
    "    return dict_of_words"
   ]
  },
  {
   "cell_type": "code",
   "execution_count": null,
   "metadata": {
    "collapsed": true
   },
   "outputs": [],
   "source": [
    "def add_word_dicts(dict1, dict2):\n",
    "    for k, v in dict2.items():\n",
    "        if k in dict1.keys():\n",
    "            dict1[k] = dict1[k] + v\n",
    "        else:\n",
    "            dict1[k] = v\n",
    "    return dict1\n",
    "\n",
    "# both functions are in a2_func file anyway"
   ]
  },
  {
   "cell_type": "code",
   "execution_count": 42,
   "metadata": {},
   "outputs": [
    {
     "name": "stdout",
     "output_type": "stream",
     "text": [
      "Wall time: 10min 39s\n"
     ]
    }
   ],
   "source": [
    "%%time\n",
    "\n",
    "if __name__ ==  '__main__': \n",
    "    filenames = glob.glob('./gutenberg/*.txt')\n",
    "    pool = Pool(1)\n",
    "    mapped = pool.map(a2_func.one_book_word_count, filenames[:600])\n",
    "    reduced = reduce(a2_func.add_word_dicts, mapped)"
   ]
  },
  {
   "cell_type": "code",
   "execution_count": 43,
   "metadata": {},
   "outputs": [
    {
     "name": "stdout",
     "output_type": "stream",
     "text": [
      "Wall time: 4min 46s\n"
     ]
    }
   ],
   "source": [
    "%%time\n",
    "\n",
    "if __name__ ==  '__main__':\n",
    "    filenames = glob.glob('./gutenberg/*.txt')\n",
    "    pool = Pool(None)\n",
    "    mapped = pool.map(a2_func.one_book_word_count, filenames[:600])\n",
    "    reduced = reduce(a2_func.add_word_dicts, mapped)"
   ]
  },
  {
   "cell_type": "code",
   "execution_count": 45,
   "metadata": {},
   "outputs": [
    {
     "data": {
      "image/png": "[encoded data removed]",
      "text/plain": [
       "<Figure size 1224x360 with 1 Axes>"
      ]
     },
     "metadata": {
      "needs_background": "light"
     },
     "output_type": "display_data"
    }
   ],
   "source": [
    "import matplotlib.pyplot as plt\n",
    "\n",
    "list_of_words = sorted([[word, number] for word, number in reduced.items()], key = lambda x: x[1], reverse=True)\n",
    "limit = 20\n",
    "words = [x[0] for x in list_of_words[:limit]]\n",
    "numbers = [x[1] for x in list_of_words[:limit]]\n",
    "\n",
    "fig, ax = plt.subplots(1,1, figsize=(17,5))\n",
    "ax.bar(range(limit), numbers, align='center', color='pink')\n",
    "ax.set_title(\"Most popular words in Gutenberg's books\")\n",
    "ax.set_xticks(range(limit))\n",
    "ax.set_xticklabels(words, rotation='vertical')\n",
    "ax.set_ylabel('Number of mentions')\n",
    "ax.spines['top'].set_color(None)\n",
    "ax.spines['right'].set_color(None)\n",
    "ax.grid(alpha=0.3)\n",
    "plt.show()"
   ]
  },
  {
   "cell_type": "markdown",
   "metadata": {},
   "source": [
    "### Task 4\n",
    "\n",
    "Calculate the product of two random matrices"
   ]
  },
  {
   "cell_type": "code",
   "execution_count": 64,
   "metadata": {
    "collapsed": true,
    "scrolled": true
   },
   "outputs": [],
   "source": [
    "A = np.random.randint(1,29,(400,240))"
   ]
  },
  {
   "cell_type": "code",
   "execution_count": 65,
   "metadata": {
    "collapsed": true,
    "scrolled": true
   },
   "outputs": [],
   "source": [
    "B = np.random.randint(1,29,(240,250))"
   ]
  },
  {
   "cell_type": "code",
   "execution_count": 66,
   "metadata": {},
   "outputs": [
    {
     "name": "stdout",
     "output_type": "stream",
     "text": [
      "Wall time: 4min 5s\n"
     ]
    }
   ],
   "source": [
    "%%time\n",
    "\n",
    "if __name__ ==  '__main__':\n",
    "    from itertools import chain\n",
    "    pool = Pool(1)\n",
    "    \n",
    "    # A is i x j matrix, but I will put j's as a first argument\n",
    "    m_A = zip([*range(A.shape[1])] * A.shape[0], chain(*zip(*[range(A.shape[0])] * A.shape[1])), A.flatten(), ['A']*A.shape[0]*A.shape[1])\n",
    "    # B is j x k, so the first argument fits the same function as for A\n",
    "    m_B = zip(chain(*zip(*[range(B.shape[0])] * B.shape[1])), [*range(B.shape[1])] * B.shape[0], B.flatten(), ['B']*B.shape[0]*B.shape[1])\n",
    "\n",
    "    matrices = chain(*zip(m_A), *zip(m_B))\n",
    "    \n",
    "    mapped = pool.map(a2_func.make_pairs, matrices)\n",
    "\n",
    "    all_js = dict()\n",
    "    for one_cell in mapped:\n",
    "        j, rest = one_cell\n",
    "        if j in all_js.keys():\n",
    "            all_js[j].append(rest)\n",
    "        else:\n",
    "            all_js[j] = [rest]\n",
    "    \n",
    "    result = reduce(a2_func.sum_up, list(pool.map(a2_func.first_multiply, list(all_js.values()))))"
   ]
  },
  {
   "cell_type": "code",
   "execution_count": 69,
   "metadata": {},
   "outputs": [
    {
     "name": "stdout",
     "output_type": "stream",
     "text": [
      "Wall time: 3min 34s\n"
     ]
    }
   ],
   "source": [
    "%%time\n",
    "\n",
    "if __name__ ==  '__main__':\n",
    "    from itertools import chain\n",
    "    pool = Pool(None)\n",
    "    \n",
    "    # A is i x j matrix, but I will put j's as a first argument\n",
    "    m_A = zip([*range(A.shape[1])] * A.shape[0], chain(*zip(*[range(A.shape[0])] * A.shape[1])), A.flatten(), ['A']*A.shape[0]*A.shape[1])\n",
    "    # B is j x k, so the first argument fits the same function as for A\n",
    "    m_B = zip(chain(*zip(*[range(B.shape[0])] * B.shape[1])), [*range(B.shape[1])] * B.shape[0], B.flatten(), ['B']*B.shape[0]*B.shape[1])\n",
    "\n",
    "    matrices = chain(*zip(m_A), *zip(m_B))\n",
    "    \n",
    "    mapped = pool.map(a2_func.make_pairs, matrices)\n",
    "\n",
    "    all_js = dict()\n",
    "    for one_cell in mapped:\n",
    "        j, rest = one_cell\n",
    "        if j in all_js.keys():\n",
    "            all_js[j].append(rest)\n",
    "        else:\n",
    "            all_js[j] = [rest]\n",
    "    \n",
    "    result = reduce(a2_func.sum_up, list(pool.map(a2_func.first_multiply, list(all_js.values()))))"
   ]
  },
  {
   "cell_type": "code",
   "execution_count": 68,
   "metadata": {},
   "outputs": [
    {
     "name": "stdout",
     "output_type": "stream",
     "text": [
      "Wall time: 30 ms\n"
     ]
    },
    {
     "data": {
      "text/plain": [
       "array([[45922, 49368, 48098, ..., 46536, 46405, 48388],\n",
       "       [45257, 49388, 50560, ..., 47612, 47062, 49496],\n",
       "       [46835, 51671, 52926, ..., 49512, 50016, 50671],\n",
       "       ...,\n",
       "       [48431, 53144, 54949, ..., 52536, 50672, 50844],\n",
       "       [49108, 52369, 53290, ..., 51772, 49598, 51177],\n",
       "       [48374, 53100, 52235, ..., 51116, 49145, 50951]])"
      ]
     },
     "execution_count": 68,
     "metadata": {},
     "output_type": "execute_result"
    }
   ],
   "source": [
    "%%time\n",
    "np.dot(A, B)"
   ]
  },
  {
   "cell_type": "markdown",
   "metadata": {
    "collapsed": true
   },
   "source": [
    "###  Task 3\n",
    "\n",
    "Compute exact digits of π using the Bailey-Borwein-Plouffe algorithm.\n",
    "\n",
    "Inspired by http://pythonfiddle.com/bailey-borwein-plouffe-formula/"
   ]
  },
  {
   "cell_type": "code",
   "execution_count": 51,
   "metadata": {},
   "outputs": [
    {
     "data": {
      "text/plain": [
       "<module 'a2_func' from 'C:\\\\Users\\\\zuzan\\\\Documents\\\\_big_data\\\\a2_func.py'>"
      ]
     },
     "execution_count": 51,
     "metadata": {},
     "output_type": "execute_result"
    }
   ],
   "source": [
    "imp.reload(a2_func)"
   ]
  },
  {
   "cell_type": "code",
   "execution_count": 60,
   "metadata": {},
   "outputs": [
    {
     "name": "stdout",
     "output_type": "stream",
     "text": [
      "3\n",
      "c\n"
     ]
    }
   ],
   "source": [
    "print(a2_func.nth_pi_digit(0))\n",
    "print(a2_func.nth_pi_digit(9999))"
   ]
  },
  {
   "cell_type": "code",
   "execution_count": 61,
   "metadata": {},
   "outputs": [
    {
     "name": "stdout",
     "output_type": "stream",
     "text": [
      "3.243f6a88  ...  926aab49ec\n",
      "Wall time: 9min 36s\n"
     ]
    }
   ],
   "source": [
    "%%time\n",
    "\n",
    "if __name__ == '__main__':\n",
    "    n = 10000\n",
    "    pool = Pool(1)\n",
    "    mapped = pool.map(a2_func.nth_pi_digit, range(n))\n",
    "    reduced = reduce(a2_func.make_pi, mapped)\n",
    "    reduced = reduced[0] + '.' + reduced[1:]\n",
    "    print(reduced[:10], ' ... ', reduced[-10:])"
   ]
  },
  {
   "cell_type": "code",
   "execution_count": 63,
   "metadata": {},
   "outputs": [
    {
     "name": "stdout",
     "output_type": "stream",
     "text": [
      "3.243f6a88  ...  926aab49ec\n",
      "Wall time: 4min 16s\n"
     ]
    }
   ],
   "source": [
    "%%time\n",
    "\n",
    "if __name__ == '__main__':\n",
    "    n = 10000\n",
    "    pool = Pool(None)\n",
    "    mapped = pool.map(a2_func.nth_pi_digit, range(n))\n",
    "    reduced = reduce(a2_func.make_pi, mapped)\n",
    "    reduced = reduced[0] + '.' + reduced[1:]\n",
    "    print(reduced[:10], ' ... ', reduced[-10:])"
   ]
  },
  {
   "cell_type": "code",
   "execution_count": 59,
   "metadata": {},
   "outputs": [
    {
     "name": "stdout",
     "output_type": "stream",
     "text": [
      "3.243f6a8885a308d313198a2e03707344a4093822299f31d0082efa98ec4e6c89452821e638d01377be5466cf34e90c6cc0a\n",
      "Wall time: 3.23 s\n"
     ]
    }
   ],
   "source": [
    "%%time\n",
    "\n",
    "if __name__ == '__main__':\n",
    "    n = 100\n",
    "    pool = Pool(None)\n",
    "    mapped = pool.map(a2_func.nth_pi_digit, range(n))\n",
    "    reduced = reduce(a2_func.make_pi, mapped)\n",
    "    reduced = reduced[0] + '.' + reduced[1:]\n",
    "    print(reduced)"
   ]
  }
 ],
 "metadata": {
  "kernelspec": {
   "display_name": "Python 3",
   "language": "python",
   "name": "python3"
  },
  "language_info": {
   "codemirror_mode": {
    "name": "ipython",
    "version": 3
   },
   "file_extension": ".py",
   "mimetype": "text/x-python",
   "name": "python",
   "nbconvert_exporter": "python",
   "pygments_lexer": "ipython3",
   "version": "3.6.3"
  }
 },
 "nbformat": 4,
 "nbformat_minor": 2
}
